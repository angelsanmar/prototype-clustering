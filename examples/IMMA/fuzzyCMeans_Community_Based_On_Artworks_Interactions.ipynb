{
 "cells": [
  {
   "cell_type": "code",
   "execution_count": 4,
   "id": "b5f8419c",
   "metadata": {
    "pycharm": {
     "name": "#%%\n"
    }
   },
   "outputs": [],
   "source": [
    "import pandas as pd\n",
    "import numpy as np\n",
    "\n",
    "from context import community_module\n",
    "from community_module.community_detection.similarityCommunityDetection import SimilarityCommunityDetection\n",
    "from community_module.community_detection.explainedCommunitiesDetection import ExplainedCommunitiesDetection\n",
    "from community_module.visualization.gephiVisualization import GephiVisualization\n",
    "\n",
    "from sklearn.metrics.pairwise import cosine_similarity"
   ]
  },
  {
   "cell_type": "code",
   "execution_count": 5,
   "id": "d219cc6d",
   "metadata": {
    "pycharm": {
     "name": "#%%\n"
    }
   },
   "outputs": [
    {
     "data": {
      "text/plain": "                     userResponseID                 artworkID  numInteractions\n0  81PfE8l9tbFhtvxOE6X5VOh2UpBiYgCO  60c0927e0ee8234e932e7a1d                1\n1  BZXf8rM1IAoDUtW01ShxYw8MxjHtGF5S  60c08c580ee8234e932e7a18                1\n2  BZXf8rM1IAoDUtW01ShxYw8MxjHtGF5S  60c0908cb5b26479a17d1b33                1\n3  BZXf8rM1IAoDUtW01ShxYw8MxjHtGF5S  60c09225b5b26479a17d1b3a                1\n4  BZXf8rM1IAoDUtW01ShxYw8MxjHtGF5S  60c0927e0ee8234e932e7a1d                1",
      "text/html": "<div>\n<style scoped>\n    .dataframe tbody tr th:only-of-type {\n        vertical-align: middle;\n    }\n\n    .dataframe tbody tr th {\n        vertical-align: top;\n    }\n\n    .dataframe thead th {\n        text-align: right;\n    }\n</style>\n<table border=\"1\" class=\"dataframe\">\n  <thead>\n    <tr style=\"text-align: right;\">\n      <th></th>\n      <th>userResponseID</th>\n      <th>artworkID</th>\n      <th>numInteractions</th>\n    </tr>\n  </thead>\n  <tbody>\n    <tr>\n      <th>0</th>\n      <td>81PfE8l9tbFhtvxOE6X5VOh2UpBiYgCO</td>\n      <td>60c0927e0ee8234e932e7a1d</td>\n      <td>1</td>\n    </tr>\n    <tr>\n      <th>1</th>\n      <td>BZXf8rM1IAoDUtW01ShxYw8MxjHtGF5S</td>\n      <td>60c08c580ee8234e932e7a18</td>\n      <td>1</td>\n    </tr>\n    <tr>\n      <th>2</th>\n      <td>BZXf8rM1IAoDUtW01ShxYw8MxjHtGF5S</td>\n      <td>60c0908cb5b26479a17d1b33</td>\n      <td>1</td>\n    </tr>\n    <tr>\n      <th>3</th>\n      <td>BZXf8rM1IAoDUtW01ShxYw8MxjHtGF5S</td>\n      <td>60c09225b5b26479a17d1b3a</td>\n      <td>1</td>\n    </tr>\n    <tr>\n      <th>4</th>\n      <td>BZXf8rM1IAoDUtW01ShxYw8MxjHtGF5S</td>\n      <td>60c0927e0ee8234e932e7a1d</td>\n      <td>1</td>\n    </tr>\n  </tbody>\n</table>\n</div>"
     },
     "execution_count": 5,
     "metadata": {},
     "output_type": "execute_result"
    }
   ],
   "source": [
    "interactions_df = pd.read_csv('../../data/IMMA/citizenInteractions.csv')\n",
    "interactions_df.head()"
   ]
  },
  {
   "cell_type": "code",
   "execution_count": 6,
   "id": "37630c47",
   "metadata": {
    "pycharm": {
     "name": "#%%\n"
    }
   },
   "outputs": [
    {
     "data": {
      "text/plain": "                        _id  \\\n0  60c095321262e65eec197529   \n1  60c094dcb78b241f4625bbb9   \n2  60c09476b84c4b312635d34c   \n3  60c09437b5b26479a17d1b3c   \n4  60c0927e0ee8234e932e7a1d   \n5  60c09225b5b26479a17d1b3a   \n6  60c0908cb5b26479a17d1b33   \n7  60c08c580ee8234e932e7a18   \n\n                                                name                   artist  \\\n0                                    Back of Snowman                Gary Hume   \n1                                      SENTINEL VIII            Catherine Lee   \n2                                             Barrel            Fergus Martin   \n3                                    217 5° Arc x 12             Bernar Venet   \n4                                        The Drummer           Barry Flanagan   \n5  8 Limestones cut to a specific size from rough...         Ulrich Rückriem    \n6                           Untitled / Corrections D  Iran do Espírito Santo    \n7                       Recurring Line: North/ South          Donald Urquhart   \n\n   date                                        description  \\\n0  2003  Gary Hume was one of a generation of artists w...   \n1  1999  Born in Texas in 1950, Lee’s works are a hybri...   \n2  2020  This artwork is by Fergus Martin, an Irish art...   \n3  2008  Born in 1941 in the south of France, Venet est...   \n4  1996  Born in Wales, Barry Flanagan studied at Birmi...   \n5  1988  Ulrich Rückreim is German and he lives in Colo...   \n6  2008  <p>Brazilian artist Iran do Espírito Santo’s w...   \n7  2007  <p>Scottish artist Donald Urquhart works in a ...   \n\n                                               notes  \\\n0                    IMMA Collection: Purchase, 2005   \n1       IMMA Collection: Donation, Sean Scully, 2005   \n2  Commissioned by the Office for Public Works fo...   \n3  IMMA Collection: Loan, collection of the artis...   \n4      IMMA Collection: Donated by the artist, 2001    \n5                    IMMA Collection: Purchase, 2001   \n6                    IMMA Collection: Purchase, 2007   \n7                    IMMA Collection: Purchase, 2005   \n\n                                                 URL  \\\n0        https://imma.ie/collection/back-of-snowman/   \n1          https://imma.ie/collection/sentinel-viii/   \n2                                                      \n3         https://imma.ie/collection/217-5-arc-x-12/   \n4            https://imma.ie/collection/the-drummer/   \n5  https://imma.ie/collection/8-limestones-cut-to...   \n6  https://imma.ie/collection/untitled-correction...   \n7  https://imma.ie/collection/recurring-line-nort...   \n\n                       image                             audio  \\\n0             08GaryHume.jpg           08-BackSnowman-Joan.mp3   \n1         07CatherineLee.jpg              07-Sentinel-Joan.mp3   \n2         06FergusMartin.jpg                06-Barrel-Joan.mp3   \n3          05BernarVenet.jpg                   05-Arc-Joan.mp3   \n4        04BarryFlanagan.jpg               04-Drummer-Joan.mp3   \n5        03UrichRuckreim.jpg           03-8Limestones-Joan.mp3   \n6  02IrandoEspiritoSanto.jpg  02-UntitledCorrectionsD-Joan.mp3   \n7       01DonaldUrquhart.jpg         01-RecurringLine-Joan.mp3   \n\n                             _datasetid  _timestamp  _timestamp_year  \\\n0  a6ad7a45-3d69-44c2-8f57-e0830e748f0d  1627482702             2021   \n1  a6ad7a45-3d69-44c2-8f57-e0830e748f0d  1627482652             2021   \n2  a6ad7a45-3d69-44c2-8f57-e0830e748f0d  1627482593             2021   \n3  a6ad7a45-3d69-44c2-8f57-e0830e748f0d  1627482511             2021   \n4  a6ad7a45-3d69-44c2-8f57-e0830e748f0d  1627482440             2021   \n5  a6ad7a45-3d69-44c2-8f57-e0830e748f0d  1627482394             2021   \n6  a6ad7a45-3d69-44c2-8f57-e0830e748f0d  1627482302             2021   \n7  a6ad7a45-3d69-44c2-8f57-e0830e748f0d  1627481698             2021   \n\n   _timestamp_month  _timestamp_day  _timestamp_hour  _timestamp_minute  \\\n0                 7              28               15                 31   \n1                 7              28               15                 30   \n2                 7              28               15                 29   \n3                 7              28               15                 28   \n4                 7              28               15                 27   \n5                 7              28               15                 26   \n6                 7              28               15                 25   \n7                 7              28               15                 14   \n\n   _timestamp_second  _updated  \n0                 42      True  \n1                 52      True  \n2                 53      True  \n3                 31      True  \n4                 20      True  \n5                 34      True  \n6                  2      True  \n7                 58      True  ",
      "text/html": "<div>\n<style scoped>\n    .dataframe tbody tr th:only-of-type {\n        vertical-align: middle;\n    }\n\n    .dataframe tbody tr th {\n        vertical-align: top;\n    }\n\n    .dataframe thead th {\n        text-align: right;\n    }\n</style>\n<table border=\"1\" class=\"dataframe\">\n  <thead>\n    <tr style=\"text-align: right;\">\n      <th></th>\n      <th>_id</th>\n      <th>name</th>\n      <th>artist</th>\n      <th>date</th>\n      <th>description</th>\n      <th>notes</th>\n      <th>URL</th>\n      <th>image</th>\n      <th>audio</th>\n      <th>_datasetid</th>\n      <th>_timestamp</th>\n      <th>_timestamp_year</th>\n      <th>_timestamp_month</th>\n      <th>_timestamp_day</th>\n      <th>_timestamp_hour</th>\n      <th>_timestamp_minute</th>\n      <th>_timestamp_second</th>\n      <th>_updated</th>\n    </tr>\n  </thead>\n  <tbody>\n    <tr>\n      <th>0</th>\n      <td>60c095321262e65eec197529</td>\n      <td>Back of Snowman</td>\n      <td>Gary Hume</td>\n      <td>2003</td>\n      <td>Gary Hume was one of a generation of artists w...</td>\n      <td>IMMA Collection: Purchase, 2005</td>\n      <td>https://imma.ie/collection/back-of-snowman/</td>\n      <td>08GaryHume.jpg</td>\n      <td>08-BackSnowman-Joan.mp3</td>\n      <td>a6ad7a45-3d69-44c2-8f57-e0830e748f0d</td>\n      <td>1627482702</td>\n      <td>2021</td>\n      <td>7</td>\n      <td>28</td>\n      <td>15</td>\n      <td>31</td>\n      <td>42</td>\n      <td>True</td>\n    </tr>\n    <tr>\n      <th>1</th>\n      <td>60c094dcb78b241f4625bbb9</td>\n      <td>SENTINEL VIII</td>\n      <td>Catherine Lee</td>\n      <td>1999</td>\n      <td>Born in Texas in 1950, Lee’s works are a hybri...</td>\n      <td>IMMA Collection: Donation, Sean Scully, 2005</td>\n      <td>https://imma.ie/collection/sentinel-viii/</td>\n      <td>07CatherineLee.jpg</td>\n      <td>07-Sentinel-Joan.mp3</td>\n      <td>a6ad7a45-3d69-44c2-8f57-e0830e748f0d</td>\n      <td>1627482652</td>\n      <td>2021</td>\n      <td>7</td>\n      <td>28</td>\n      <td>15</td>\n      <td>30</td>\n      <td>52</td>\n      <td>True</td>\n    </tr>\n    <tr>\n      <th>2</th>\n      <td>60c09476b84c4b312635d34c</td>\n      <td>Barrel</td>\n      <td>Fergus Martin</td>\n      <td>2020</td>\n      <td>This artwork is by Fergus Martin, an Irish art...</td>\n      <td>Commissioned by the Office for Public Works fo...</td>\n      <td></td>\n      <td>06FergusMartin.jpg</td>\n      <td>06-Barrel-Joan.mp3</td>\n      <td>a6ad7a45-3d69-44c2-8f57-e0830e748f0d</td>\n      <td>1627482593</td>\n      <td>2021</td>\n      <td>7</td>\n      <td>28</td>\n      <td>15</td>\n      <td>29</td>\n      <td>53</td>\n      <td>True</td>\n    </tr>\n    <tr>\n      <th>3</th>\n      <td>60c09437b5b26479a17d1b3c</td>\n      <td>217 5° Arc x 12</td>\n      <td>Bernar Venet</td>\n      <td>2008</td>\n      <td>Born in 1941 in the south of France, Venet est...</td>\n      <td>IMMA Collection: Loan, collection of the artis...</td>\n      <td>https://imma.ie/collection/217-5-arc-x-12/</td>\n      <td>05BernarVenet.jpg</td>\n      <td>05-Arc-Joan.mp3</td>\n      <td>a6ad7a45-3d69-44c2-8f57-e0830e748f0d</td>\n      <td>1627482511</td>\n      <td>2021</td>\n      <td>7</td>\n      <td>28</td>\n      <td>15</td>\n      <td>28</td>\n      <td>31</td>\n      <td>True</td>\n    </tr>\n    <tr>\n      <th>4</th>\n      <td>60c0927e0ee8234e932e7a1d</td>\n      <td>The Drummer</td>\n      <td>Barry Flanagan</td>\n      <td>1996</td>\n      <td>Born in Wales, Barry Flanagan studied at Birmi...</td>\n      <td>IMMA Collection: Donated by the artist, 2001</td>\n      <td>https://imma.ie/collection/the-drummer/</td>\n      <td>04BarryFlanagan.jpg</td>\n      <td>04-Drummer-Joan.mp3</td>\n      <td>a6ad7a45-3d69-44c2-8f57-e0830e748f0d</td>\n      <td>1627482440</td>\n      <td>2021</td>\n      <td>7</td>\n      <td>28</td>\n      <td>15</td>\n      <td>27</td>\n      <td>20</td>\n      <td>True</td>\n    </tr>\n    <tr>\n      <th>5</th>\n      <td>60c09225b5b26479a17d1b3a</td>\n      <td>8 Limestones cut to a specific size from rough...</td>\n      <td>Ulrich Rückriem</td>\n      <td>1988</td>\n      <td>Ulrich Rückreim is German and he lives in Colo...</td>\n      <td>IMMA Collection: Purchase, 2001</td>\n      <td>https://imma.ie/collection/8-limestones-cut-to...</td>\n      <td>03UrichRuckreim.jpg</td>\n      <td>03-8Limestones-Joan.mp3</td>\n      <td>a6ad7a45-3d69-44c2-8f57-e0830e748f0d</td>\n      <td>1627482394</td>\n      <td>2021</td>\n      <td>7</td>\n      <td>28</td>\n      <td>15</td>\n      <td>26</td>\n      <td>34</td>\n      <td>True</td>\n    </tr>\n    <tr>\n      <th>6</th>\n      <td>60c0908cb5b26479a17d1b33</td>\n      <td>Untitled / Corrections D</td>\n      <td>Iran do Espírito Santo</td>\n      <td>2008</td>\n      <td>&lt;p&gt;Brazilian artist Iran do Espírito Santo’s w...</td>\n      <td>IMMA Collection: Purchase, 2007</td>\n      <td>https://imma.ie/collection/untitled-correction...</td>\n      <td>02IrandoEspiritoSanto.jpg</td>\n      <td>02-UntitledCorrectionsD-Joan.mp3</td>\n      <td>a6ad7a45-3d69-44c2-8f57-e0830e748f0d</td>\n      <td>1627482302</td>\n      <td>2021</td>\n      <td>7</td>\n      <td>28</td>\n      <td>15</td>\n      <td>25</td>\n      <td>2</td>\n      <td>True</td>\n    </tr>\n    <tr>\n      <th>7</th>\n      <td>60c08c580ee8234e932e7a18</td>\n      <td>Recurring Line: North/ South</td>\n      <td>Donald Urquhart</td>\n      <td>2007</td>\n      <td>&lt;p&gt;Scottish artist Donald Urquhart works in a ...</td>\n      <td>IMMA Collection: Purchase, 2005</td>\n      <td>https://imma.ie/collection/recurring-line-nort...</td>\n      <td>01DonaldUrquhart.jpg</td>\n      <td>01-RecurringLine-Joan.mp3</td>\n      <td>a6ad7a45-3d69-44c2-8f57-e0830e748f0d</td>\n      <td>1627481698</td>\n      <td>2021</td>\n      <td>7</td>\n      <td>28</td>\n      <td>15</td>\n      <td>14</td>\n      <td>58</td>\n      <td>True</td>\n    </tr>\n  </tbody>\n</table>\n</div>"
     },
     "execution_count": 6,
     "metadata": {},
     "output_type": "execute_result"
    }
   ],
   "source": [
    "artworks = pd.read_json('../../data/IMMA/artworks_IMMA.json')\n",
    "artworks"
   ]
  },
  {
   "cell_type": "code",
   "execution_count": 7,
   "id": "cf46f8eb",
   "metadata": {
    "pycharm": {
     "name": "#%%\n"
    }
   },
   "outputs": [],
   "source": [
    "def get_name(artwork_id):\n",
    "    return artworks['_id'] \n",
    "\n",
    "names_arts = interactions_df.apply(lambda row: artworks[artworks['_id'] == row['artworkID']].name.values[0], axis=1)"
   ]
  },
  {
   "cell_type": "code",
   "execution_count": 8,
   "id": "05028cb2",
   "metadata": {
    "pycharm": {
     "name": "#%%\n"
    }
   },
   "outputs": [
    {
     "data": {
      "text/plain": "0                                           The Drummer\n1                          Recurring Line: North/ South\n2                              Untitled / Corrections D\n3     8 Limestones cut to a specific size from rough...\n4                                           The Drummer\n5                                       217 5° Arc x 12\n6                                                Barrel\n7                                         SENTINEL VIII\n8                                       Back of Snowman\n9                              Untitled / Corrections D\n10    8 Limestones cut to a specific size from rough...\n11                                          The Drummer\n12                                        SENTINEL VIII\n13                                          The Drummer\n14                                               Barrel\n15                                      Back of Snowman\n16                         Recurring Line: North/ South\n17                             Untitled / Corrections D\n18    8 Limestones cut to a specific size from rough...\n19                                          The Drummer\n20                                               Barrel\n21                                      Back of Snowman\n22                         Recurring Line: North/ South\n23                         Recurring Line: North/ South\n24    8 Limestones cut to a specific size from rough...\n25                                          The Drummer\n26                                      217 5° Arc x 12\n27                                               Barrel\n28                                        SENTINEL VIII\n29                                      Back of Snowman\n30                                      217 5° Arc x 12\n31                                        SENTINEL VIII\n32                                      217 5° Arc x 12\n33                             Untitled / Corrections D\ndtype: object"
     },
     "execution_count": 8,
     "metadata": {},
     "output_type": "execute_result"
    }
   ],
   "source": [
    "names_arts"
   ]
  },
  {
   "cell_type": "code",
   "execution_count": 9,
   "id": "48ddca2d",
   "metadata": {
    "pycharm": {
     "name": "#%%\n"
    }
   },
   "outputs": [],
   "source": [
    "interactions_df['artworkID'] = names_arts"
   ]
  },
  {
   "cell_type": "code",
   "execution_count": 10,
   "id": "3db510ec",
   "metadata": {
    "pycharm": {
     "name": "#%%\n"
    }
   },
   "outputs": [
    {
     "data": {
      "text/plain": "                      userResponseID  \\\n0   81PfE8l9tbFhtvxOE6X5VOh2UpBiYgCO   \n1   BZXf8rM1IAoDUtW01ShxYw8MxjHtGF5S   \n2   BZXf8rM1IAoDUtW01ShxYw8MxjHtGF5S   \n3   BZXf8rM1IAoDUtW01ShxYw8MxjHtGF5S   \n4   BZXf8rM1IAoDUtW01ShxYw8MxjHtGF5S   \n5   BZXf8rM1IAoDUtW01ShxYw8MxjHtGF5S   \n6   BZXf8rM1IAoDUtW01ShxYw8MxjHtGF5S   \n7   BZXf8rM1IAoDUtW01ShxYw8MxjHtGF5S   \n8   BZXf8rM1IAoDUtW01ShxYw8MxjHtGF5S   \n9   KL32ozS4irwGu3JtWd0x5p8AV9kXlS9I   \n10  KL32ozS4irwGu3JtWd0x5p8AV9kXlS9I   \n11  KL32ozS4irwGu3JtWd0x5p8AV9kXlS9I   \n12  KL32ozS4irwGu3JtWd0x5p8AV9kXlS9I   \n13  P4M8Uto1UwzTd3OKOns3LZ7hIxBheAg1   \n14  P4M8Uto1UwzTd3OKOns3LZ7hIxBheAg1   \n15  SUw10XRrB4A03Ral1MKas4sLgIW9P3lh   \n16  ScOlinhmp6Rxo9aqywrKMR8J0S90qNQA   \n17  ScOlinhmp6Rxo9aqywrKMR8J0S90qNQA   \n18  ScOlinhmp6Rxo9aqywrKMR8J0S90qNQA   \n19  ScOlinhmp6Rxo9aqywrKMR8J0S90qNQA   \n20  ScOlinhmp6Rxo9aqywrKMR8J0S90qNQA   \n21  ScOlinhmp6Rxo9aqywrKMR8J0S90qNQA   \n22  ZqNE3fNu8JXVIadgc5epXYofaOtgEE7F   \n23  aQIxJWU4S2YAOGA93ItHtmuEeNbhudnY   \n24  aQIxJWU4S2YAOGA93ItHtmuEeNbhudnY   \n25  aQIxJWU4S2YAOGA93ItHtmuEeNbhudnY   \n26  aQIxJWU4S2YAOGA93ItHtmuEeNbhudnY   \n27  aQIxJWU4S2YAOGA93ItHtmuEeNbhudnY   \n28  aQIxJWU4S2YAOGA93ItHtmuEeNbhudnY   \n29  aQIxJWU4S2YAOGA93ItHtmuEeNbhudnY   \n30  iCY4NVfyljZxazkltmZh5YiAnY2b3Rm4   \n31  iCY4NVfyljZxazkltmZh5YiAnY2b3Rm4   \n32  k5SXzdwN9UPY2FXUC1vavDtk3CykTKXR   \n33  r6ojHpr4LeGQQcGcSXFGsFQVJzdGYwzE   \n\n                                            artworkID  numInteractions  \n0                                         The Drummer                1  \n1                        Recurring Line: North/ South                1  \n2                            Untitled / Corrections D                1  \n3   8 Limestones cut to a specific size from rough...                1  \n4                                         The Drummer                1  \n5                                     217 5° Arc x 12                1  \n6                                              Barrel                1  \n7                                       SENTINEL VIII                1  \n8                                     Back of Snowman                1  \n9                            Untitled / Corrections D                3  \n10  8 Limestones cut to a specific size from rough...                3  \n11                                        The Drummer                3  \n12                                      SENTINEL VIII                1  \n13                                        The Drummer                1  \n14                                             Barrel                1  \n15                                    Back of Snowman                1  \n16                       Recurring Line: North/ South                2  \n17                           Untitled / Corrections D                2  \n18  8 Limestones cut to a specific size from rough...                2  \n19                                        The Drummer                2  \n20                                             Barrel                1  \n21                                    Back of Snowman                2  \n22                       Recurring Line: North/ South                1  \n23                       Recurring Line: North/ South                1  \n24  8 Limestones cut to a specific size from rough...                1  \n25                                        The Drummer                1  \n26                                    217 5° Arc x 12                1  \n27                                             Barrel                1  \n28                                      SENTINEL VIII                1  \n29                                    Back of Snowman                1  \n30                                    217 5° Arc x 12                6  \n31                                      SENTINEL VIII                3  \n32                                    217 5° Arc x 12                1  \n33                           Untitled / Corrections D                1  ",
      "text/html": "<div>\n<style scoped>\n    .dataframe tbody tr th:only-of-type {\n        vertical-align: middle;\n    }\n\n    .dataframe tbody tr th {\n        vertical-align: top;\n    }\n\n    .dataframe thead th {\n        text-align: right;\n    }\n</style>\n<table border=\"1\" class=\"dataframe\">\n  <thead>\n    <tr style=\"text-align: right;\">\n      <th></th>\n      <th>userResponseID</th>\n      <th>artworkID</th>\n      <th>numInteractions</th>\n    </tr>\n  </thead>\n  <tbody>\n    <tr>\n      <th>0</th>\n      <td>81PfE8l9tbFhtvxOE6X5VOh2UpBiYgCO</td>\n      <td>The Drummer</td>\n      <td>1</td>\n    </tr>\n    <tr>\n      <th>1</th>\n      <td>BZXf8rM1IAoDUtW01ShxYw8MxjHtGF5S</td>\n      <td>Recurring Line: North/ South</td>\n      <td>1</td>\n    </tr>\n    <tr>\n      <th>2</th>\n      <td>BZXf8rM1IAoDUtW01ShxYw8MxjHtGF5S</td>\n      <td>Untitled / Corrections D</td>\n      <td>1</td>\n    </tr>\n    <tr>\n      <th>3</th>\n      <td>BZXf8rM1IAoDUtW01ShxYw8MxjHtGF5S</td>\n      <td>8 Limestones cut to a specific size from rough...</td>\n      <td>1</td>\n    </tr>\n    <tr>\n      <th>4</th>\n      <td>BZXf8rM1IAoDUtW01ShxYw8MxjHtGF5S</td>\n      <td>The Drummer</td>\n      <td>1</td>\n    </tr>\n    <tr>\n      <th>5</th>\n      <td>BZXf8rM1IAoDUtW01ShxYw8MxjHtGF5S</td>\n      <td>217 5° Arc x 12</td>\n      <td>1</td>\n    </tr>\n    <tr>\n      <th>6</th>\n      <td>BZXf8rM1IAoDUtW01ShxYw8MxjHtGF5S</td>\n      <td>Barrel</td>\n      <td>1</td>\n    </tr>\n    <tr>\n      <th>7</th>\n      <td>BZXf8rM1IAoDUtW01ShxYw8MxjHtGF5S</td>\n      <td>SENTINEL VIII</td>\n      <td>1</td>\n    </tr>\n    <tr>\n      <th>8</th>\n      <td>BZXf8rM1IAoDUtW01ShxYw8MxjHtGF5S</td>\n      <td>Back of Snowman</td>\n      <td>1</td>\n    </tr>\n    <tr>\n      <th>9</th>\n      <td>KL32ozS4irwGu3JtWd0x5p8AV9kXlS9I</td>\n      <td>Untitled / Corrections D</td>\n      <td>3</td>\n    </tr>\n    <tr>\n      <th>10</th>\n      <td>KL32ozS4irwGu3JtWd0x5p8AV9kXlS9I</td>\n      <td>8 Limestones cut to a specific size from rough...</td>\n      <td>3</td>\n    </tr>\n    <tr>\n      <th>11</th>\n      <td>KL32ozS4irwGu3JtWd0x5p8AV9kXlS9I</td>\n      <td>The Drummer</td>\n      <td>3</td>\n    </tr>\n    <tr>\n      <th>12</th>\n      <td>KL32ozS4irwGu3JtWd0x5p8AV9kXlS9I</td>\n      <td>SENTINEL VIII</td>\n      <td>1</td>\n    </tr>\n    <tr>\n      <th>13</th>\n      <td>P4M8Uto1UwzTd3OKOns3LZ7hIxBheAg1</td>\n      <td>The Drummer</td>\n      <td>1</td>\n    </tr>\n    <tr>\n      <th>14</th>\n      <td>P4M8Uto1UwzTd3OKOns3LZ7hIxBheAg1</td>\n      <td>Barrel</td>\n      <td>1</td>\n    </tr>\n    <tr>\n      <th>15</th>\n      <td>SUw10XRrB4A03Ral1MKas4sLgIW9P3lh</td>\n      <td>Back of Snowman</td>\n      <td>1</td>\n    </tr>\n    <tr>\n      <th>16</th>\n      <td>ScOlinhmp6Rxo9aqywrKMR8J0S90qNQA</td>\n      <td>Recurring Line: North/ South</td>\n      <td>2</td>\n    </tr>\n    <tr>\n      <th>17</th>\n      <td>ScOlinhmp6Rxo9aqywrKMR8J0S90qNQA</td>\n      <td>Untitled / Corrections D</td>\n      <td>2</td>\n    </tr>\n    <tr>\n      <th>18</th>\n      <td>ScOlinhmp6Rxo9aqywrKMR8J0S90qNQA</td>\n      <td>8 Limestones cut to a specific size from rough...</td>\n      <td>2</td>\n    </tr>\n    <tr>\n      <th>19</th>\n      <td>ScOlinhmp6Rxo9aqywrKMR8J0S90qNQA</td>\n      <td>The Drummer</td>\n      <td>2</td>\n    </tr>\n    <tr>\n      <th>20</th>\n      <td>ScOlinhmp6Rxo9aqywrKMR8J0S90qNQA</td>\n      <td>Barrel</td>\n      <td>1</td>\n    </tr>\n    <tr>\n      <th>21</th>\n      <td>ScOlinhmp6Rxo9aqywrKMR8J0S90qNQA</td>\n      <td>Back of Snowman</td>\n      <td>2</td>\n    </tr>\n    <tr>\n      <th>22</th>\n      <td>ZqNE3fNu8JXVIadgc5epXYofaOtgEE7F</td>\n      <td>Recurring Line: North/ South</td>\n      <td>1</td>\n    </tr>\n    <tr>\n      <th>23</th>\n      <td>aQIxJWU4S2YAOGA93ItHtmuEeNbhudnY</td>\n      <td>Recurring Line: North/ South</td>\n      <td>1</td>\n    </tr>\n    <tr>\n      <th>24</th>\n      <td>aQIxJWU4S2YAOGA93ItHtmuEeNbhudnY</td>\n      <td>8 Limestones cut to a specific size from rough...</td>\n      <td>1</td>\n    </tr>\n    <tr>\n      <th>25</th>\n      <td>aQIxJWU4S2YAOGA93ItHtmuEeNbhudnY</td>\n      <td>The Drummer</td>\n      <td>1</td>\n    </tr>\n    <tr>\n      <th>26</th>\n      <td>aQIxJWU4S2YAOGA93ItHtmuEeNbhudnY</td>\n      <td>217 5° Arc x 12</td>\n      <td>1</td>\n    </tr>\n    <tr>\n      <th>27</th>\n      <td>aQIxJWU4S2YAOGA93ItHtmuEeNbhudnY</td>\n      <td>Barrel</td>\n      <td>1</td>\n    </tr>\n    <tr>\n      <th>28</th>\n      <td>aQIxJWU4S2YAOGA93ItHtmuEeNbhudnY</td>\n      <td>SENTINEL VIII</td>\n      <td>1</td>\n    </tr>\n    <tr>\n      <th>29</th>\n      <td>aQIxJWU4S2YAOGA93ItHtmuEeNbhudnY</td>\n      <td>Back of Snowman</td>\n      <td>1</td>\n    </tr>\n    <tr>\n      <th>30</th>\n      <td>iCY4NVfyljZxazkltmZh5YiAnY2b3Rm4</td>\n      <td>217 5° Arc x 12</td>\n      <td>6</td>\n    </tr>\n    <tr>\n      <th>31</th>\n      <td>iCY4NVfyljZxazkltmZh5YiAnY2b3Rm4</td>\n      <td>SENTINEL VIII</td>\n      <td>3</td>\n    </tr>\n    <tr>\n      <th>32</th>\n      <td>k5SXzdwN9UPY2FXUC1vavDtk3CykTKXR</td>\n      <td>217 5° Arc x 12</td>\n      <td>1</td>\n    </tr>\n    <tr>\n      <th>33</th>\n      <td>r6ojHpr4LeGQQcGcSXFGsFQVJzdGYwzE</td>\n      <td>Untitled / Corrections D</td>\n      <td>1</td>\n    </tr>\n  </tbody>\n</table>\n</div>"
     },
     "execution_count": 10,
     "metadata": {},
     "output_type": "execute_result"
    }
   ],
   "source": [
    "interactions_df"
   ]
  },
  {
   "cell_type": "code",
   "execution_count": 11,
   "id": "127d7f3d",
   "metadata": {
    "pycharm": {
     "name": "#%%\n"
    }
   },
   "outputs": [
    {
     "name": "stdout",
     "output_type": "stream",
     "text": [
      "artworkID                         217 5° Arc x 12  \\\n",
      "userResponseID                                      \n",
      "81PfE8l9tbFhtvxOE6X5VOh2UpBiYgCO                0   \n",
      "BZXf8rM1IAoDUtW01ShxYw8MxjHtGF5S                1   \n",
      "KL32ozS4irwGu3JtWd0x5p8AV9kXlS9I                0   \n",
      "P4M8Uto1UwzTd3OKOns3LZ7hIxBheAg1                0   \n",
      "SUw10XRrB4A03Ral1MKas4sLgIW9P3lh                0   \n",
      "ScOlinhmp6Rxo9aqywrKMR8J0S90qNQA                0   \n",
      "ZqNE3fNu8JXVIadgc5epXYofaOtgEE7F                0   \n",
      "aQIxJWU4S2YAOGA93ItHtmuEeNbhudnY                1   \n",
      "iCY4NVfyljZxazkltmZh5YiAnY2b3Rm4                6   \n",
      "k5SXzdwN9UPY2FXUC1vavDtk3CykTKXR                1   \n",
      "r6ojHpr4LeGQQcGcSXFGsFQVJzdGYwzE                0   \n",
      "\n",
      "artworkID                         8 Limestones cut to a specific size from rough blocks 150 x 50 x 50cm split into parts and reassembled into their original form  \\\n",
      "userResponseID                                                                                                                                                      \n",
      "81PfE8l9tbFhtvxOE6X5VOh2UpBiYgCO                                                  0                                                                                 \n",
      "BZXf8rM1IAoDUtW01ShxYw8MxjHtGF5S                                                  1                                                                                 \n",
      "KL32ozS4irwGu3JtWd0x5p8AV9kXlS9I                                                  3                                                                                 \n",
      "P4M8Uto1UwzTd3OKOns3LZ7hIxBheAg1                                                  0                                                                                 \n",
      "SUw10XRrB4A03Ral1MKas4sLgIW9P3lh                                                  0                                                                                 \n",
      "ScOlinhmp6Rxo9aqywrKMR8J0S90qNQA                                                  2                                                                                 \n",
      "ZqNE3fNu8JXVIadgc5epXYofaOtgEE7F                                                  0                                                                                 \n",
      "aQIxJWU4S2YAOGA93ItHtmuEeNbhudnY                                                  1                                                                                 \n",
      "iCY4NVfyljZxazkltmZh5YiAnY2b3Rm4                                                  0                                                                                 \n",
      "k5SXzdwN9UPY2FXUC1vavDtk3CykTKXR                                                  0                                                                                 \n",
      "r6ojHpr4LeGQQcGcSXFGsFQVJzdGYwzE                                                  0                                                                                 \n",
      "\n",
      "artworkID                         Back of Snowman  Barrel  \\\n",
      "userResponseID                                              \n",
      "81PfE8l9tbFhtvxOE6X5VOh2UpBiYgCO                0       0   \n",
      "BZXf8rM1IAoDUtW01ShxYw8MxjHtGF5S                1       1   \n",
      "KL32ozS4irwGu3JtWd0x5p8AV9kXlS9I                0       0   \n",
      "P4M8Uto1UwzTd3OKOns3LZ7hIxBheAg1                0       1   \n",
      "SUw10XRrB4A03Ral1MKas4sLgIW9P3lh                1       0   \n",
      "ScOlinhmp6Rxo9aqywrKMR8J0S90qNQA                2       1   \n",
      "ZqNE3fNu8JXVIadgc5epXYofaOtgEE7F                0       0   \n",
      "aQIxJWU4S2YAOGA93ItHtmuEeNbhudnY                1       1   \n",
      "iCY4NVfyljZxazkltmZh5YiAnY2b3Rm4                0       0   \n",
      "k5SXzdwN9UPY2FXUC1vavDtk3CykTKXR                0       0   \n",
      "r6ojHpr4LeGQQcGcSXFGsFQVJzdGYwzE                0       0   \n",
      "\n",
      "artworkID                         Recurring Line: North/ South  SENTINEL VIII  \\\n",
      "userResponseID                                                                  \n",
      "81PfE8l9tbFhtvxOE6X5VOh2UpBiYgCO                             0              0   \n",
      "BZXf8rM1IAoDUtW01ShxYw8MxjHtGF5S                             1              1   \n",
      "KL32ozS4irwGu3JtWd0x5p8AV9kXlS9I                             0              1   \n",
      "P4M8Uto1UwzTd3OKOns3LZ7hIxBheAg1                             0              0   \n",
      "SUw10XRrB4A03Ral1MKas4sLgIW9P3lh                             0              0   \n",
      "ScOlinhmp6Rxo9aqywrKMR8J0S90qNQA                             2              0   \n",
      "ZqNE3fNu8JXVIadgc5epXYofaOtgEE7F                             1              0   \n",
      "aQIxJWU4S2YAOGA93ItHtmuEeNbhudnY                             1              1   \n",
      "iCY4NVfyljZxazkltmZh5YiAnY2b3Rm4                             0              3   \n",
      "k5SXzdwN9UPY2FXUC1vavDtk3CykTKXR                             0              0   \n",
      "r6ojHpr4LeGQQcGcSXFGsFQVJzdGYwzE                             0              0   \n",
      "\n",
      "artworkID                         The Drummer  Untitled / Corrections D  \n",
      "userResponseID                                                           \n",
      "81PfE8l9tbFhtvxOE6X5VOh2UpBiYgCO            1                         0  \n",
      "BZXf8rM1IAoDUtW01ShxYw8MxjHtGF5S            1                         1  \n",
      "KL32ozS4irwGu3JtWd0x5p8AV9kXlS9I            3                         3  \n",
      "P4M8Uto1UwzTd3OKOns3LZ7hIxBheAg1            1                         0  \n",
      "SUw10XRrB4A03Ral1MKas4sLgIW9P3lh            0                         0  \n",
      "ScOlinhmp6Rxo9aqywrKMR8J0S90qNQA            2                         2  \n",
      "ZqNE3fNu8JXVIadgc5epXYofaOtgEE7F            0                         0  \n",
      "aQIxJWU4S2YAOGA93ItHtmuEeNbhudnY            1                         0  \n",
      "iCY4NVfyljZxazkltmZh5YiAnY2b3Rm4            0                         0  \n",
      "k5SXzdwN9UPY2FXUC1vavDtk3CykTKXR            0                         0  \n",
      "r6ojHpr4LeGQQcGcSXFGsFQVJzdGYwzE            0                         1  \n"
     ]
    }
   ],
   "source": [
    "users_interactions = pd.pivot_table(interactions_df, values='numInteractions', index='userResponseID', columns='artworkID', fill_value=0)\n",
    "print(users_interactions)"
   ]
  },
  {
   "cell_type": "code",
   "execution_count": 148,
   "outputs": [
    {
     "name": "stdout",
     "output_type": "stream",
     "text": [
      "\n",
      "-ordered labels:\n",
      " [ 0  0  0  1  1 -1  2  2  3  3 -1]\n",
      "\n",
      "-reachability:\n",
      " [        inf  1.09963026  1.42692464  1.77859834  1.41443986  4.7213294\n",
      "  9.82663763  2.50122379 13.62508219  5.91293882         inf]\n",
      "\n",
      "-core_distances:\n",
      " [1.09963026 1.09963026 1.42692464 1.41443986 1.41443986 4.7213294\n",
      " 2.50122379 2.50122379 5.91293882 5.91293882        inf]\n",
      "\n",
      "-n_features_in:\n",
      " 11\n"
     ]
    },
    {
     "data": {
      "text/plain": "<Figure size 432x288 with 1 Axes>",
      "image/png": "[encoded data removed]"
     },
     "metadata": {
      "needs_background": "light"
     },
     "output_type": "display_data"
    }
   ],
   "source": [
    "from sklearn.cluster import OPTICS\n",
    "import matplotlib.pyplot as plt\n",
    "\n",
    "\n",
    "optics_model = OPTICS(min_samples = 2, min_cluster_size = 2, max_eps = 30)\n",
    "\n",
    "data = users_interactions\n",
    "optics_model.fit(data)\n",
    "\n",
    "print(\"\\n-ordered labels:\\n\", optics_model.labels_[optics_model.ordering_])\n",
    "print(\"\\n-reachability:\\n\", optics_model.reachability_[optics_model.ordering_])\n",
    "print(\"\\n-core_distances:\\n\", optics_model.core_distances_[optics_model.ordering_])\n",
    "print(\"\\n-n_features_in:\\n\", optics_model.n_features_in_)\n",
    "\n",
    "# Generate reachability plot\n",
    "reachability = optics_model.reachability_[optics_model.ordering_]\n",
    "plt.plot(reachability)\n",
    "plt.title('Reachability plot')\n",
    "plt.show()"
   ],
   "metadata": {
    "collapsed": false,
    "pycharm": {
     "name": "#%%\n"
    }
   }
  },
  {
   "cell_type": "code",
   "execution_count": 147,
   "outputs": [
    {
     "data": {
      "text/plain": "<AxesSubplot:xlabel='PC1', ylabel='PC2'>"
     },
     "execution_count": 147,
     "metadata": {},
     "output_type": "execute_result"
    },
    {
     "data": {
      "text/plain": "<Figure size 432x288 with 1 Axes>",
      "image/png": "[encoded data removed]"
     },
     "metadata": {
      "needs_background": "light"
     },
     "output_type": "display_data"
    }
   ],
   "source": [
    "from sklearn.cluster import OPTICS\n",
    "import seaborn as sns\n",
    "from sklearn.decomposition import PCA\n",
    "import pandas as pd\n",
    "\n",
    "df = data\n",
    "\n",
    "pca = PCA()\n",
    "pca.fit(df)\n",
    "df['PC1'] = pca.fit_transform(df)[:,0]\n",
    "df['PC2'] = pca.fit_transform(df)[:,1]\n",
    "df['clustering'] = optics_model.labels_\n",
    "sns.scatterplot(data=df,x=\"PC1\",y=\"PC2\",hue=df['clustering'])"
   ],
   "metadata": {
    "collapsed": false,
    "pycharm": {
     "name": "#%%\n"
    }
   }
  },
  {
   "cell_type": "code",
   "execution_count": 58,
   "outputs": [
    {
     "data": {
      "text/plain": "<Figure size 432x288 with 1 Axes>",
      "image/png": "[encoded data removed]"
     },
     "metadata": {
      "needs_background": "light"
     },
     "output_type": "display_data"
    },
    {
     "name": "stdout",
     "output_type": "stream",
     "text": [
      "OPTICS()\n",
      "0.350644848773924\n",
      "[[ 9.45071447 14.58847433]\n",
      " [ 8.500387   16.2113985 ]\n",
      " [ 9.56481939 16.89136015]\n",
      " [ 9.63176979 14.41548797]\n",
      " [ 8.43771706 15.07302741]\n",
      " [10.33672675 14.89789167]\n",
      " [10.43533425 16.58262441]]\n"
     ]
    },
    {
     "data": {
      "text/plain": "<Figure size 432x288 with 1 Axes>",
      "image/png": "[encoded data removed]"
     },
     "metadata": {
      "needs_background": "light"
     },
     "output_type": "display_data"
    }
   ],
   "source": [
    "from sklearn.cluster import OPTICS\n",
    "from sklearn.datasets import make_blobs\n",
    "from numpy import quantile, where, random\n",
    "\n",
    "random.seed(123)\n",
    "x, _ = make_blobs(n_samples=350, centers=1, cluster_std=.4, center_box=(20, 5))\n",
    "\n",
    "plt.scatter(x[:,0], x[:,1])\n",
    "plt.grid(True)\n",
    "plt.show()\n",
    "\n",
    "model = OPTICS().fit(x)\n",
    "print(model)\n",
    "\n",
    "scores = model.core_distances_\n",
    "\n",
    "thresh = quantile(scores, .98)\n",
    "print(thresh)\n",
    "\n",
    "index = where(scores >= thresh)\n",
    "values = x[index]\n",
    "print(values)\n",
    "\n",
    "plt.scatter(x[:,0], x[:,1])\n",
    "plt.scatter(values[:,0],values[:,1], color='r')\n",
    "plt.legend((\"normal\", \"anomal\"), loc=\"best\", fancybox=True, shadow=True)\n",
    "plt.grid(True)\n",
    "plt.show()"
   ],
   "metadata": {
    "collapsed": false,
    "pycharm": {
     "name": "#%%\n"
    }
   }
  },
  {
   "cell_type": "code",
   "execution_count": 25,
   "id": "fc8aeed8",
   "metadata": {
    "pycharm": {
     "name": "#%%\n"
    }
   },
   "outputs": [],
   "source": [
    "community_dectection = ExplainedCommunitiesDetection(users_interactions, SimilarityCommunityDetection, 'cosine')"
   ]
  },
  {
   "cell_type": "code",
   "execution_count": 26,
   "id": "8e5f8613",
   "metadata": {
    "pycharm": {
     "name": "#%%\n"
    }
   },
   "outputs": [],
   "source": [
    "n_communities, users_communities = community_dectection.search_all_communities(percentage=0.78)"
   ]
  },
  {
   "cell_type": "code",
   "execution_count": 27,
   "id": "30392c4b",
   "metadata": {
    "pycharm": {
     "name": "#%%\n"
    }
   },
   "outputs": [],
   "source": [
    "users_interactions['community'] = users_communities.values()\n",
    "users_interactions.reset_index(inplace=True)"
   ]
  },
  {
   "cell_type": "code",
   "execution_count": 28,
   "id": "4aca2bc8",
   "metadata": {
    "collapsed": true,
    "pycharm": {
     "name": "#%%\n"
    }
   },
   "outputs": [
    {
     "ename": "ConnectionRefusedError",
     "evalue": "[WinError 10061] No connection could be made because the target machine actively refused it",
     "output_type": "error",
     "traceback": [
      "\u001B[1;31m---------------------------------------------------------------------------\u001B[0m",
      "\u001B[1;31mConnectionRefusedError\u001B[0m                    Traceback (most recent call last)",
      "\u001B[1;32m~\\AppData\\Local\\Temp/ipykernel_24716/2851611889.py\u001B[0m in \u001B[0;36m<module>\u001B[1;34m\u001B[0m\n\u001B[0;32m      1\u001B[0m \u001B[1;31m# Pintamos en Gephi\u001B[0m\u001B[1;33m\u001B[0m\u001B[1;33m\u001B[0m\u001B[0m\n\u001B[1;32m----> 2\u001B[1;33m \u001B[0mgv\u001B[0m \u001B[1;33m=\u001B[0m \u001B[0mGephiVisualization\u001B[0m\u001B[1;33m(\u001B[0m\u001B[0mworkspace\u001B[0m\u001B[1;33m=\u001B[0m\u001B[1;34m'imma'\u001B[0m\u001B[1;33m)\u001B[0m\u001B[1;33m\u001B[0m\u001B[1;33m\u001B[0m\u001B[0m\n\u001B[0m\u001B[0;32m      3\u001B[0m \u001B[1;33m\u001B[0m\u001B[0m\n\u001B[0;32m      4\u001B[0m \u001B[1;31m# Preparamos los datos de usuarios y distancias\u001B[0m\u001B[1;33m\u001B[0m\u001B[1;33m\u001B[0m\u001B[0m\n\u001B[0;32m      5\u001B[0m \u001B[0musers\u001B[0m \u001B[1;33m=\u001B[0m \u001B[0musers_interactions\u001B[0m\u001B[1;33m[\u001B[0m\u001B[1;33m[\u001B[0m\u001B[1;34m'userResponseID'\u001B[0m\u001B[1;33m,\u001B[0m\u001B[1;34m'community'\u001B[0m\u001B[1;33m]\u001B[0m\u001B[1;33m]\u001B[0m\u001B[1;33m.\u001B[0m\u001B[0mvalues\u001B[0m\u001B[1;33m\u001B[0m\u001B[1;33m\u001B[0m\u001B[0m\n",
      "\u001B[1;32m~\\Documents\\GitHub\\prototype-clustering\\community_module\\visualization\\gephiVisualization.py\u001B[0m in \u001B[0;36m__init__\u001B[1;34m(self, hostname, port, workspace)\u001B[0m\n\u001B[0;32m      4\u001B[0m \u001B[1;33m\u001B[0m\u001B[0m\n\u001B[0;32m      5\u001B[0m     \u001B[1;32mdef\u001B[0m \u001B[0m__init__\u001B[0m\u001B[1;33m(\u001B[0m\u001B[0mself\u001B[0m\u001B[1;33m,\u001B[0m \u001B[0mhostname\u001B[0m\u001B[1;33m=\u001B[0m\u001B[1;34m'localhost'\u001B[0m\u001B[1;33m,\u001B[0m \u001B[0mport\u001B[0m\u001B[1;33m=\u001B[0m\u001B[1;36m8080\u001B[0m\u001B[1;33m,\u001B[0m \u001B[0mworkspace\u001B[0m\u001B[1;33m=\u001B[0m\u001B[1;34m'workspace0'\u001B[0m\u001B[1;33m)\u001B[0m\u001B[1;33m:\u001B[0m\u001B[1;33m\u001B[0m\u001B[1;33m\u001B[0m\u001B[0m\n\u001B[1;32m----> 6\u001B[1;33m         \u001B[0mself\u001B[0m\u001B[1;33m.\u001B[0m\u001B[0mstream\u001B[0m \u001B[1;33m=\u001B[0m \u001B[0mstreamer\u001B[0m\u001B[1;33m.\u001B[0m\u001B[0mStreamer\u001B[0m\u001B[1;33m(\u001B[0m\u001B[0mstreamer\u001B[0m\u001B[1;33m.\u001B[0m\u001B[0mGephiWS\u001B[0m\u001B[1;33m(\u001B[0m\u001B[0mhostname\u001B[0m\u001B[1;33m=\u001B[0m\u001B[0mhostname\u001B[0m\u001B[1;33m,\u001B[0m \u001B[0mport\u001B[0m\u001B[1;33m=\u001B[0m\u001B[0mport\u001B[0m\u001B[1;33m,\u001B[0m \u001B[0mworkspace\u001B[0m\u001B[1;33m=\u001B[0m\u001B[0mworkspace\u001B[0m\u001B[1;33m)\u001B[0m\u001B[1;33m)\u001B[0m\u001B[1;33m\u001B[0m\u001B[1;33m\u001B[0m\u001B[0m\n\u001B[0m\u001B[0;32m      7\u001B[0m \u001B[1;33m\u001B[0m\u001B[0m\n\u001B[0;32m      8\u001B[0m     \u001B[1;32mdef\u001B[0m \u001B[0mload_community\u001B[0m\u001B[1;33m(\u001B[0m\u001B[0mself\u001B[0m\u001B[1;33m,\u001B[0m \u001B[0musers\u001B[0m\u001B[1;33m,\u001B[0m \u001B[0mdistances\u001B[0m\u001B[1;33m,\u001B[0m \u001B[0musers_properties\u001B[0m\u001B[1;33m=\u001B[0m\u001B[1;32mNone\u001B[0m\u001B[1;33m)\u001B[0m\u001B[1;33m:\u001B[0m\u001B[1;33m\u001B[0m\u001B[1;33m\u001B[0m\u001B[0m\n",
      "\u001B[1;32m~\\anaconda3\\envs\\spice\\lib\\site-packages\\gephistreamer\\streamer.py\u001B[0m in \u001B[0;36m__init__\u001B[1;34m(self, hostname, port, workspace)\u001B[0m\n\u001B[0;32m    113\u001B[0m         \u001B[0mself\u001B[0m\u001B[1;33m.\u001B[0m\u001B[0mworkspace\u001B[0m \u001B[1;33m=\u001B[0m \u001B[0mworkspace\u001B[0m\u001B[1;33m\u001B[0m\u001B[1;33m\u001B[0m\u001B[0m\n\u001B[0;32m    114\u001B[0m         \u001B[0mself\u001B[0m\u001B[1;33m.\u001B[0m\u001B[0mwebsocket\u001B[0m \u001B[1;33m=\u001B[0m \u001B[0mself\u001B[0m\u001B[1;33m.\u001B[0m\u001B[0mClient\u001B[0m\u001B[1;33m(\u001B[0m\u001B[0mself\u001B[0m\u001B[1;33m.\u001B[0m\u001B[0m_generate_url\u001B[0m\u001B[1;33m(\u001B[0m\u001B[1;33m)\u001B[0m\u001B[1;33m)\u001B[0m\u001B[1;33m\u001B[0m\u001B[1;33m\u001B[0m\u001B[0m\n\u001B[1;32m--> 115\u001B[1;33m         \u001B[0mself\u001B[0m\u001B[1;33m.\u001B[0m\u001B[0mwebsocket\u001B[0m\u001B[1;33m.\u001B[0m\u001B[0mconnect\u001B[0m\u001B[1;33m(\u001B[0m\u001B[1;33m)\u001B[0m\u001B[1;33m\u001B[0m\u001B[1;33m\u001B[0m\u001B[0m\n\u001B[0m\u001B[0;32m    116\u001B[0m     \u001B[1;32mdef\u001B[0m \u001B[0m_generate_url\u001B[0m\u001B[1;33m(\u001B[0m\u001B[0mself\u001B[0m\u001B[1;33m)\u001B[0m\u001B[1;33m:\u001B[0m\u001B[1;33m\u001B[0m\u001B[1;33m\u001B[0m\u001B[0m\n\u001B[0;32m    117\u001B[0m         return \"ws://{hostname}:{port}/{workspace}?operation=updateGraph\".format(hostname=self.hostname,\n",
      "\u001B[1;32m~\\anaconda3\\envs\\spice\\lib\\site-packages\\ws4py\\client\\__init__.py\u001B[0m in \u001B[0;36mconnect\u001B[1;34m(self)\u001B[0m\n\u001B[0;32m    215\u001B[0m             \u001B[0mself\u001B[0m\u001B[1;33m.\u001B[0m\u001B[0m_is_secure\u001B[0m \u001B[1;33m=\u001B[0m \u001B[1;32mTrue\u001B[0m\u001B[1;33m\u001B[0m\u001B[1;33m\u001B[0m\u001B[0m\n\u001B[0;32m    216\u001B[0m \u001B[1;33m\u001B[0m\u001B[0m\n\u001B[1;32m--> 217\u001B[1;33m         \u001B[0mself\u001B[0m\u001B[1;33m.\u001B[0m\u001B[0msock\u001B[0m\u001B[1;33m.\u001B[0m\u001B[0mconnect\u001B[0m\u001B[1;33m(\u001B[0m\u001B[0mself\u001B[0m\u001B[1;33m.\u001B[0m\u001B[0mbind_addr\u001B[0m\u001B[1;33m)\u001B[0m\u001B[1;33m\u001B[0m\u001B[1;33m\u001B[0m\u001B[0m\n\u001B[0m\u001B[0;32m    218\u001B[0m \u001B[1;33m\u001B[0m\u001B[0m\n\u001B[0;32m    219\u001B[0m         \u001B[0mself\u001B[0m\u001B[1;33m.\u001B[0m\u001B[0m_write\u001B[0m\u001B[1;33m(\u001B[0m\u001B[0mself\u001B[0m\u001B[1;33m.\u001B[0m\u001B[0mhandshake_request\u001B[0m\u001B[1;33m)\u001B[0m\u001B[1;33m\u001B[0m\u001B[1;33m\u001B[0m\u001B[0m\n",
      "\u001B[1;31mConnectionRefusedError\u001B[0m: [WinError 10061] No connection could be made because the target machine actively refused it"
     ]
    }
   ],
   "source": [
    "# Pintamos en Gephi\n",
    "gv = GephiVisualization(workspace='imma')\n",
    "\n",
    "# Preparamos los datos de usuarios y distancias\n",
    "users = users_interactions[['userResponseID','community']].values\n",
    "data = users_interactions.iloc[:,1:-1].values\n",
    "distances = cosine_similarity(data)\n",
    "\n",
    "gv.load_community(users, distances, users_properties=['community'])"
   ]
  },
  {
   "cell_type": "code",
   "execution_count": 29,
   "id": "0f4a9a25",
   "metadata": {
    "scrolled": true,
    "pycharm": {
     "name": "#%%\n"
    }
   },
   "outputs": [
    {
     "data": {
      "text/plain": "artworkID                    userResponseID  community\n0          81PfE8l9tbFhtvxOE6X5VOh2UpBiYgCO          0\n1          BZXf8rM1IAoDUtW01ShxYw8MxjHtGF5S          2\n2          KL32ozS4irwGu3JtWd0x5p8AV9kXlS9I          6\n3          P4M8Uto1UwzTd3OKOns3LZ7hIxBheAg1          0\n4          SUw10XRrB4A03Ral1MKas4sLgIW9P3lh          3\n5          ScOlinhmp6Rxo9aqywrKMR8J0S90qNQA          2\n6          ZqNE3fNu8JXVIadgc5epXYofaOtgEE7F          5\n7          aQIxJWU4S2YAOGA93ItHtmuEeNbhudnY          2\n8          iCY4NVfyljZxazkltmZh5YiAnY2b3Rm4          1\n9          k5SXzdwN9UPY2FXUC1vavDtk3CykTKXR          1\n10         r6ojHpr4LeGQQcGcSXFGsFQVJzdGYwzE          4",
      "text/html": "<div>\n<style scoped>\n    .dataframe tbody tr th:only-of-type {\n        vertical-align: middle;\n    }\n\n    .dataframe tbody tr th {\n        vertical-align: top;\n    }\n\n    .dataframe thead th {\n        text-align: right;\n    }\n</style>\n<table border=\"1\" class=\"dataframe\">\n  <thead>\n    <tr style=\"text-align: right;\">\n      <th>artworkID</th>\n      <th>userResponseID</th>\n      <th>community</th>\n    </tr>\n  </thead>\n  <tbody>\n    <tr>\n      <th>0</th>\n      <td>81PfE8l9tbFhtvxOE6X5VOh2UpBiYgCO</td>\n      <td>0</td>\n    </tr>\n    <tr>\n      <th>1</th>\n      <td>BZXf8rM1IAoDUtW01ShxYw8MxjHtGF5S</td>\n      <td>2</td>\n    </tr>\n    <tr>\n      <th>2</th>\n      <td>KL32ozS4irwGu3JtWd0x5p8AV9kXlS9I</td>\n      <td>6</td>\n    </tr>\n    <tr>\n      <th>3</th>\n      <td>P4M8Uto1UwzTd3OKOns3LZ7hIxBheAg1</td>\n      <td>0</td>\n    </tr>\n    <tr>\n      <th>4</th>\n      <td>SUw10XRrB4A03Ral1MKas4sLgIW9P3lh</td>\n      <td>3</td>\n    </tr>\n    <tr>\n      <th>5</th>\n      <td>ScOlinhmp6Rxo9aqywrKMR8J0S90qNQA</td>\n      <td>2</td>\n    </tr>\n    <tr>\n      <th>6</th>\n      <td>ZqNE3fNu8JXVIadgc5epXYofaOtgEE7F</td>\n      <td>5</td>\n    </tr>\n    <tr>\n      <th>7</th>\n      <td>aQIxJWU4S2YAOGA93ItHtmuEeNbhudnY</td>\n      <td>2</td>\n    </tr>\n    <tr>\n      <th>8</th>\n      <td>iCY4NVfyljZxazkltmZh5YiAnY2b3Rm4</td>\n      <td>1</td>\n    </tr>\n    <tr>\n      <th>9</th>\n      <td>k5SXzdwN9UPY2FXUC1vavDtk3CykTKXR</td>\n      <td>1</td>\n    </tr>\n    <tr>\n      <th>10</th>\n      <td>r6ojHpr4LeGQQcGcSXFGsFQVJzdGYwzE</td>\n      <td>4</td>\n    </tr>\n  </tbody>\n</table>\n</div>"
     },
     "execution_count": 29,
     "metadata": {},
     "output_type": "execute_result"
    }
   ],
   "source": [
    "users_interactions[['userResponseID', 'community']]"
   ]
  },
  {
   "cell_type": "code",
   "execution_count": 30,
   "id": "23d2ce48",
   "metadata": {
    "pycharm": {
     "name": "#%%\n"
    }
   },
   "outputs": [
    {
     "name": "stdout",
     "output_type": "stream",
     "text": [
      "---------------------\n",
      "COMMUNITY - 0\n",
      "\t- N. Members: 2\n",
      "\t- Properties:\n",
      "\t\t- The Drummer\n",
      "---------------------\n",
      "COMMUNITY - 1\n",
      "\t- N. Members: 2\n",
      "\t- Properties:\n",
      "\t\t- 217 5° Arc x 12\n",
      "\t\t- SENTINEL VIII\n",
      "---------------------\n",
      "COMMUNITY - 2\n",
      "\t- N. Members: 3\n",
      "\t- Properties:\n",
      "\t\t- 8 Limestones cut to a specific size from rough blocks 150 x 50 x 50cm split into parts and reassembled into their original form\n",
      "\t\t- Back of Snowman\n",
      "\t\t- Barrel\n",
      "\t\t- Recurring Line: North/ South\n",
      "\t\t- The Drummer\n",
      "\t\t- Untitled / Corrections D\n",
      "---------------------\n",
      "N. USERS WITHOUT COMMUNITY - 4\n"
     ]
    }
   ],
   "source": [
    "users_without_community = []\n",
    "for c in range(n_communities):\n",
    "    community_data = community_dectection.get_community(c, answer_binary=True)\n",
    "\n",
    "    if len(community_data['members']) > 1:\n",
    "\n",
    "        print('---------------------')\n",
    "        print('COMMUNITY -', community_data['name'])\n",
    "        print('\\t- N. Members:', len(community_data['members']))\n",
    "        print('\\t- Properties:')\n",
    "\n",
    "        for k in community_data['properties'].keys():\n",
    "            print('\\t\\t-', k)\n",
    "    else:\n",
    "        users_without_community.extend(community_data['members'])\n",
    "\n",
    "print('---------------------')\n",
    "print('N. USERS WITHOUT COMMUNITY -', len(users_without_community))"
   ]
  }
 ],
 "metadata": {
  "kernelspec": {
   "display_name": "Python 3 (ipykernel)",
   "language": "python",
   "name": "python3"
  },
  "language_info": {
   "codemirror_mode": {
    "name": "ipython",
    "version": 3
   },
   "file_extension": ".py",
   "mimetype": "text/x-python",
   "name": "python",
   "nbconvert_exporter": "python",
   "pygments_lexer": "ipython3",
   "version": "3.9.6"
  }
 },
 "nbformat": 4,
 "nbformat_minor": 5
}